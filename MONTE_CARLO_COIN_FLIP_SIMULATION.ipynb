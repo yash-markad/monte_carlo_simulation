{
 "cells": [
  {
   "cell_type": "markdown",
   "id": "2b9ecace",
   "metadata": {},
   "source": [
    "# 1.Coin Flip"
   ]
  },
  {
   "cell_type": "markdown",
   "id": "080ae40f",
   "metadata": {},
   "source": [
    "\n",
    "A Monte Carlo simulation is a model used to predict the probability of\n",
    "different outcomes when the intervention of random variables is present.\n",
    "Monte Carlo simulations help to explain the impact of risk and uncertainty\n",
    "in prediction and forecasting models."
   ]
  },
  {
   "cell_type": "code",
   "execution_count": 1,
   "id": "d8d77a17",
   "metadata": {},
   "outputs": [],
   "source": [
    "#import libraries\n",
    "import random\n",
    "import numpy as np\n",
    "import matplotlib.pyplot as plt"
   ]
  },
  {
   "cell_type": "code",
   "execution_count": 2,
   "id": "b11c3fcc",
   "metadata": {},
   "outputs": [],
   "source": [
    "#coin flip function\n",
    "# 0 -> Heads\n",
    "# 1 -> Tails\n",
    "\n",
    "def coin_flip():\n",
    "    return random.randint(0,1)\n"
   ]
  },
  {
   "cell_type": "code",
   "execution_count": 5,
   "id": "ac030bbd",
   "metadata": {},
   "outputs": [
    {
     "data": {
      "text/plain": [
       "0"
      ]
     },
     "execution_count": 5,
     "metadata": {},
     "output_type": "execute_result"
    }
   ],
   "source": [
    "#check\n",
    "coin_flip()"
   ]
  },
  {
   "cell_type": "code",
   "execution_count": 25,
   "id": "023d066a",
   "metadata": {},
   "outputs": [],
   "source": [
    "#main function Monte carlo\n",
    "\n",
    "#empty list for storing the probablity values\n",
    "lst1 = []\n",
    "\n",
    "def monte_carlo(n):\n",
    "    results=0\n",
    "    for i in range(n):\n",
    "        flip_result = coin_flip()\n",
    "        results = results + flip_result\n",
    "        \n",
    "        #calculate probablity values\n",
    "        prob_value = results/(i+1)\n",
    "        \n",
    "        #Appending the probabilaty valued to the list\n",
    "        lst1.append(prob_value)\n",
    "        #ploting the result\n",
    "        plt.axhline(y=0.5,color='r',linestyle='--')\n",
    "        plt.xlabel('Iteration')\n",
    "        plt.ylabel('Probability')\n",
    "        plt.plot(lst1)\n",
    "        \n",
    "    return results/n"
   ]
  },
  {
   "cell_type": "code",
   "execution_count": 26,
   "id": "8c85037b",
   "metadata": {},
   "outputs": [
    {
     "data": {
      "text/plain": [
       "0.498"
      ]
     },
     "execution_count": 26,
     "metadata": {},
     "output_type": "execute_result"
    },
    {
     "data": {
      "image/png": "[encoded data removed]",
      "text/plain": [
       "<Figure size 432x288 with 1 Axes>"
      ]
     },
     "metadata": {
      "needs_background": "light"
     },
     "output_type": "display_data"
    }
   ],
   "source": [
    "monte_carlo(500)"
   ]
  },
  {
   "cell_type": "code",
   "execution_count": 27,
   "id": "486d41db",
   "metadata": {},
   "outputs": [],
   "source": [
    "#more the random sampling more confidence our output will be"
   ]
  },
  {
   "cell_type": "code",
   "execution_count": null,
   "id": "87513ddd",
   "metadata": {},
   "outputs": [
    {
     "data": {
      "text/plain": [
       "0.5062"
      ]
     },
     "execution_count": 28,
     "metadata": {},
     "output_type": "execute_result"
    }
   ],
   "source": [
    "monte_carlo(5000)"
   ]
  },
  {
   "cell_type": "code",
   "execution_count": null,
   "id": "387a35c4",
   "metadata": {},
   "outputs": [],
   "source": []
  }
 ],
 "metadata": {
  "kernelspec": {
   "display_name": "Python 3",
   "language": "python",
   "name": "python3"
  },
  "language_info": {
   "codemirror_mode": {
    "name": "ipython",
    "version": 3
   },
   "file_extension": ".py",
   "mimetype": "text/x-python",
   "name": "python",
   "nbconvert_exporter": "python",
   "pygments_lexer": "ipython3",
   "version": "3.8.8"
  }
 },
 "nbformat": 4,
 "nbformat_minor": 5
}
